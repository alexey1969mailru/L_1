{
 "cells": [
  {
   "cell_type": "code",
   "execution_count": 3,
   "id": "219ea730",
   "metadata": {},
   "outputs": [],
   "source": [
    "import requests\n",
    "import json"
   ]
  },
  {
   "cell_type": "code",
   "execution_count": 27,
   "id": "29786585",
   "metadata": {},
   "outputs": [],
   "source": [
    "url = 'https://api.github.com'\n",
    "user='Alexey'"
   ]
  },
  {
   "cell_type": "code",
   "execution_count": 28,
   "id": "a5f6a880",
   "metadata": {},
   "outputs": [],
   "source": [
    "r = requests.get(f'{url}/users/{user}/repos')"
   ]
  },
  {
   "cell_type": "code",
   "execution_count": 29,
   "id": "1502199a",
   "metadata": {},
   "outputs": [],
   "source": [
    "with open('data.json', 'w') as f:\n",
    "    json.dump(r.json(), f)"
   ]
  },
  {
   "cell_type": "code",
   "execution_count": 30,
   "id": "864f58a4",
   "metadata": {},
   "outputs": [
    {
     "name": "stdout",
     "output_type": "stream",
     "text": [
      "activeadmin-select2\n",
      "activeadmin-translate\n",
      "active_admin\n",
      "active_admin_associations\n",
      "active_admin_role\n",
      "acts-as-messageable\n",
      "acts_as_debug\n",
      "acts_as_follower\n",
      "acts_as_textiled\n",
      "APIv3-ruby-library\n",
      "apnd\n",
      "autoSave\n",
      "bank-of-israel\n",
      "browserlog\n",
      "carrierwave-google-storage\n",
      "chaaat\n",
      "closeio\n",
      "cshaml-sprockets\n",
      "devise_token_auth\n",
      "discourse\n",
      "ether-on-a-stick\n",
      "fast_jsonapi\n",
      "github-heroku-pusher\n",
      "growl\n",
      "growl.loggingscripts\n",
      "hoptoad_notifier\n",
      "linkedin-v2\n",
      "omniauth-linkedin-oauth2\n",
      "omniauth-wechat-oauth2\n",
      "parallel_test_tutorial\n"
     ]
    }
   ],
   "source": [
    "for i in r.json():\n",
    "    print(i['name'])"
   ]
  },
  {
   "cell_type": "code",
   "execution_count": null,
   "id": "33520818",
   "metadata": {},
   "outputs": [],
   "source": []
  }
 ],
 "metadata": {
  "kernelspec": {
   "display_name": "Python 3",
   "language": "python",
   "name": "python3"
  },
  "language_info": {
   "codemirror_mode": {
    "name": "ipython",
    "version": 3
   },
   "file_extension": ".py",
   "mimetype": "text/x-python",
   "name": "python",
   "nbconvert_exporter": "python",
   "pygments_lexer": "ipython3",
   "version": "3.8.8"
  }
 },
 "nbformat": 4,
 "nbformat_minor": 5
}
